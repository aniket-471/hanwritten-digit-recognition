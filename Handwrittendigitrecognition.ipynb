{
 "cells": [
  {
   "cell_type": "code",
   "execution_count": 1,
   "id": "502381e2",
   "metadata": {},
   "outputs": [],
   "source": [
    "import tensorflow as tf\n",
    "from tensorflow import keras\n",
    "from keras.datasets.mnist import load_data\n",
    "from keras import models, layers\n",
    "from matplotlib import pyplot as plt"
   ]
  },
  {
   "cell_type": "code",
   "execution_count": 2,
   "id": "7b12aa99",
   "metadata": {},
   "outputs": [
    {
     "name": "stdout",
     "output_type": "stream",
     "text": [
      "Downloading data from https://storage.googleapis.com/tensorflow/tf-keras-datasets/mnist.npz\n",
      "11490434/11490434 [==============================] - 3s 0us/step\n"
     ]
    }
   ],
   "source": [
    "(x_train, y_train), (x_test, y_test) = load_data()"
   ]
  },
  {
   "cell_type": "code",
   "execution_count": 7,
   "id": "03cf7976",
   "metadata": {},
   "outputs": [],
   "source": [
    "assert x_train.shape == (60000, 28, 28)\n",
    "assert x_test.shape == (10000, 28, 28)\n",
    "assert y_train.shape == (60000,)\n",
    "assert y_test.shape == (10000,)"
   ]
  },
  {
   "cell_type": "code",
   "execution_count": 8,
   "id": "7b65edb8",
   "metadata": {},
   "outputs": [],
   "source": [
    "input_shape = (28, 28, 1)\n",
    "num_labels = 10"
   ]
  },
  {
   "cell_type": "code",
   "execution_count": 9,
   "id": "1f37010a",
   "metadata": {},
   "outputs": [],
   "source": [
    "y_train = tf.one_hot(indices=y_train, depth=num_labels)\n",
    "y_test = tf.one_hot(indices=y_test, depth=num_labels)"
   ]
  },
  {
   "cell_type": "code",
   "execution_count": 14,
   "id": "0b5b3e26",
   "metadata": {},
   "outputs": [],
   "source": [
    "train_val_ds = tf.data.Dataset.from_tensor_slices((x_train, y_train))\n",
    "train_ds = train_val_ds.take(45000).batch(100)\n",
    "val_ds = train_val_ds.skip(45000).take(15000).batch(100)\n",
    "test_ds = tf.data.Dataset.from_tensor_slices((x_test, y_test)).batch(100)"
   ]
  },
  {
   "cell_type": "code",
   "execution_count": 15,
   "id": "5a85e032",
   "metadata": {},
   "outputs": [],
   "source": [
    "model = models.Sequential([\n",
    "    layers.Input(shape=input_shape),\n",
    "    layers.Conv2D(16, 3, activation='relu'),\n",
    "    layers.Conv2D(32, 3, activation='relu'),\n",
    "    layers.MaxPooling2D(),\n",
    "    layers.Dropout(0.25),\n",
    "    layers.Flatten(),\n",
    "    layers.Dense(128, activation='relu'),\n",
    "    layers.Dropout(0.5),\n",
    "    layers.Dense(num_labels),\n",
    "])"
   ]
  },
  {
   "cell_type": "code",
   "execution_count": 16,
   "id": "074d5d0d",
   "metadata": {},
   "outputs": [
    {
     "name": "stdout",
     "output_type": "stream",
     "text": [
      "Model: \"sequential_1\"\n",
      "_________________________________________________________________\n",
      " Layer (type)                Output Shape              Param #   \n",
      "=================================================================\n",
      " conv2d_2 (Conv2D)           (None, 26, 26, 16)        160       \n",
      "                                                                 \n",
      " conv2d_3 (Conv2D)           (None, 24, 24, 32)        4640      \n",
      "                                                                 \n",
      " max_pooling2d_1 (MaxPooling  (None, 12, 12, 32)       0         \n",
      " 2D)                                                             \n",
      "                                                                 \n",
      " dropout_2 (Dropout)         (None, 12, 12, 32)        0         \n",
      "                                                                 \n",
      " flatten_1 (Flatten)         (None, 4608)              0         \n",
      "                                                                 \n",
      " dense_2 (Dense)             (None, 128)               589952    \n",
      "                                                                 \n",
      " dropout_3 (Dropout)         (None, 128)               0         \n",
      "                                                                 \n",
      " dense_3 (Dense)             (None, 10)                1290      \n",
      "                                                                 \n",
      "=================================================================\n",
      "Total params: 596,042\n",
      "Trainable params: 596,042\n",
      "Non-trainable params: 0\n",
      "_________________________________________________________________\n"
     ]
    }
   ],
   "source": [
    "model.summary()"
   ]
  },
  {
   "cell_type": "code",
   "execution_count": 17,
   "id": "4fd0cd61",
   "metadata": {},
   "outputs": [],
   "source": [
    "model.compile(\n",
    "    optimizer=tf.keras.optimizers.AdamW(),\n",
    "    loss=tf.keras.losses.CategoricalCrossentropy(from_logits=True),\n",
    "    metrics=['accuracy'],\n",
    ")"
   ]
  },
  {
   "cell_type": "code",
   "execution_count": 18,
   "id": "25d6cbcd",
   "metadata": {},
   "outputs": [],
   "source": [
    "EPOCHS = 20"
   ]
  },
  {
   "cell_type": "code",
   "execution_count": 19,
   "id": "2ada1ef2",
   "metadata": {},
   "outputs": [
    {
     "name": "stdout",
     "output_type": "stream",
     "text": [
      "Epoch 1/20\n",
      "450/450 [==============================] - 51s 106ms/step - loss: 0.9823 - accuracy: 0.8038 - val_loss: 0.1135 - val_accuracy: 0.9663\n",
      "Epoch 2/20\n",
      "450/450 [==============================] - 53s 119ms/step - loss: 0.2076 - accuracy: 0.9407 - val_loss: 0.0758 - val_accuracy: 0.9771\n",
      "Epoch 3/20\n",
      "450/450 [==============================] - 48s 107ms/step - loss: 0.1396 - accuracy: 0.9590 - val_loss: 0.0761 - val_accuracy: 0.9783\n",
      "Epoch 4/20\n",
      "450/450 [==============================] - 50s 111ms/step - loss: 0.1108 - accuracy: 0.9663 - val_loss: 0.0713 - val_accuracy: 0.9804\n",
      "Epoch 5/20\n",
      "450/450 [==============================] - 50s 111ms/step - loss: 0.0951 - accuracy: 0.9709 - val_loss: 0.0563 - val_accuracy: 0.9839\n",
      "Epoch 6/20\n",
      "450/450 [==============================] - 52s 116ms/step - loss: 0.0831 - accuracy: 0.9752 - val_loss: 0.0606 - val_accuracy: 0.9835\n",
      "Epoch 7/20\n",
      "450/450 [==============================] - 53s 117ms/step - loss: 0.0763 - accuracy: 0.9761 - val_loss: 0.0524 - val_accuracy: 0.9871\n",
      "Epoch 8/20\n",
      "450/450 [==============================] - 51s 114ms/step - loss: 0.0726 - accuracy: 0.9786 - val_loss: 0.0558 - val_accuracy: 0.9861\n",
      "Epoch 9/20\n",
      "450/450 [==============================] - 50s 110ms/step - loss: 0.0687 - accuracy: 0.9784 - val_loss: 0.0563 - val_accuracy: 0.9853\n",
      "Epoch 9: early stopping\n"
     ]
    }
   ],
   "source": [
    "history = model.fit(\n",
    "    train_ds,\n",
    "    validation_data=val_ds,\n",
    "    epochs=EPOCHS,\n",
    "    callbacks=tf.keras.callbacks.EarlyStopping(verbose=1, patience=2),\n",
    ")"
   ]
  },
  {
   "cell_type": "code",
   "execution_count": 20,
   "id": "90f0b9cf",
   "metadata": {},
   "outputs": [],
   "source": [
    "metrics = history.history"
   ]
  },
  {
   "cell_type": "code",
   "execution_count": 21,
   "id": "612da59b",
   "metadata": {},
   "outputs": [
    {
     "data": {
      "image/png": "[encoded data removed]",
      "text/plain": [
       "<Figure size 640x480 with 1 Axes>"
      ]
     },
     "metadata": {},
     "output_type": "display_data"
    },
    {
     "name": "stdout",
     "output_type": "stream",
     "text": [
      "100/100 [==============================] - 2s 17ms/step - loss: 0.0425 - accuracy: 0.9874\n",
      "{'loss': 0.0424550399184227, 'accuracy': 0.9873999953269958}\n"
     ]
    }
   ],
   "source": [
    "plt.plot(history.epoch, metrics['loss'], metrics['val_loss'])\n",
    "plt.legend(['loss', 'val_loss'])\n",
    "plt.ylim([0, max(plt.ylim())])\n",
    "plt.xlabel('Epoch')\n",
    "plt.ylabel('Loss [CategoricalCrossEntropy]')\n",
    "plt.show()\n",
    "\n",
    "print(model.evaluate(test_ds, return_dict=True))"
   ]
  },
  {
   "cell_type": "code",
   "execution_count": null,
   "id": "8b88a934",
   "metadata": {},
   "outputs": [],
   "source": []
  }
 ],
 "metadata": {
  "kernelspec": {
   "display_name": "Python 3 (ipykernel)",
   "language": "python",
   "name": "python3"
  },
  "language_info": {
   "codemirror_mode": {
    "name": "ipython",
    "version": 3
   },
   "file_extension": ".py",
   "mimetype": "text/x-python",
   "name": "python",
   "nbconvert_exporter": "python",
   "pygments_lexer": "ipython3",
   "version": "3.11.4"
  }
 },
 "nbformat": 4,
 "nbformat_minor": 5
}
